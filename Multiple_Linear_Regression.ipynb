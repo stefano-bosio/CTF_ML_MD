{
  "cells": [
    {
      "cell_type": "markdown",
      "metadata": {
        "id": "d2ZzADoaKtTP"
      },
      "source": [
        "# Import libraries"
      ]
    },
    {
      "cell_type": "code",
      "execution_count": null,
      "metadata": {
        "id": "gwtR6uZb8sxt"
      },
      "outputs": [],
      "source": [
        "!pip install rdkit"
      ]
    },
    {
      "cell_type": "code",
      "source": [
        "import rdkit, rdkit.Chem, rdkit.Chem.Draw\n",
        "from rdkit.Chem import Descriptors\n",
        "import numpy as np\n",
        "import matplotlib.pyplot as plt\n",
        "from matplotlib import colormaps\n",
        "import pandas as pd\n",
        "from sklearn.model_selection import train_test_split\n",
        "from sklearn.linear_model import LinearRegression\n",
        "from scipy import stats"
      ],
      "metadata": {
        "id": "fhj0hYK2AJyF"
      },
      "execution_count": null,
      "outputs": []
    },
    {
      "cell_type": "markdown",
      "metadata": {
        "id": "mDRPlb4_LLuZ"
      },
      "source": [
        "# Read the database"
      ]
    },
    {
      "cell_type": "code",
      "source": [
        "!wget https://raw.githubusercontent.com/stefano-bosio/CTF_ML_MD/main/herg_descriptors.csv.zip\n",
        "!unzip herg_descriptors.csv.zip"
      ],
      "metadata": {
        "id": "b6Ee0HdQ-Tld"
      },
      "execution_count": null,
      "outputs": []
    },
    {
      "cell_type": "code",
      "execution_count": null,
      "metadata": {
        "id": "EpZKXYbBRP2h"
      },
      "outputs": [],
      "source": [
        "herg_sm=pd.read_csv(\"/content/herg_descriptors.csv\")"
      ]
    },
    {
      "cell_type": "code",
      "execution_count": null,
      "metadata": {
        "id": "Tpe6xeMIRP2i"
      },
      "outputs": [],
      "source": [
        "herg_sm"
      ]
    },
    {
      "cell_type": "code",
      "execution_count": null,
      "metadata": {
        "id": "Q3mqDh0GRP2j"
      },
      "outputs": [],
      "source": [
        "molecules=[rdkit.Chem.MolFromSmiles(smi) for smi in herg_sm['SMILES']]"
      ]
    },
    {
      "cell_type": "code",
      "execution_count": null,
      "metadata": {
        "id": "hVYN5LDMRP2j"
      },
      "outputs": [],
      "source": [
        "molecules[10000]"
      ]
    },
    {
      "cell_type": "code",
      "source": [
        "import random"
      ],
      "metadata": {
        "id": "3TrnIC33OWUG"
      },
      "execution_count": null,
      "outputs": []
    },
    {
      "cell_type": "code",
      "execution_count": null,
      "metadata": {
        "id": "nHyE1xSURP2k"
      },
      "outputs": [],
      "source": [
        "random.seed(0)\n",
        "subset = random.sample(molecules,10)"
      ]
    },
    {
      "cell_type": "code",
      "execution_count": null,
      "metadata": {
        "id": "kcrSaUPWRP2k"
      },
      "outputs": [],
      "source": [
        "img=rdkit.Chem.Draw.MolsToGridImage(subset,molsPerRow=5,subImgSize=(300,300))\n",
        "img"
      ]
    },
    {
      "cell_type": "code",
      "source": [
        "print(np.min(herg_sm[\"pIC50\"]))"
      ],
      "metadata": {
        "id": "PZenvkKjGOoU"
      },
      "execution_count": null,
      "outputs": []
    },
    {
      "cell_type": "code",
      "source": [
        "molecules[np.argmin(herg_sm[\"pIC50\"])]"
      ],
      "metadata": {
        "id": "ldhXpzCeF7r7"
      },
      "execution_count": null,
      "outputs": []
    },
    {
      "cell_type": "code",
      "source": [
        "print(np.max(herg_sm[\"pIC50\"]))"
      ],
      "metadata": {
        "id": "0zXhHHjaGWxb"
      },
      "execution_count": null,
      "outputs": []
    },
    {
      "cell_type": "code",
      "source": [
        "molecules[np.argmax(herg_sm[\"pIC50\"])]"
      ],
      "metadata": {
        "id": "E9wOqOURGK5r"
      },
      "execution_count": null,
      "outputs": []
    },
    {
      "cell_type": "code",
      "source": [
        "molecules[np.argmin((herg_sm[\"pIC50\"].mean()-herg_sm[\"pIC50\"])**2)]"
      ],
      "metadata": {
        "id": "BXc4jAklGa1r"
      },
      "execution_count": null,
      "outputs": []
    },
    {
      "cell_type": "code",
      "execution_count": null,
      "metadata": {
        "id": "VIKAGcYsRP2l"
      },
      "outputs": [],
      "source": [
        "valid_mols= [x for x in molecules if x != None]"
      ]
    },
    {
      "cell_type": "code",
      "execution_count": null,
      "metadata": {
        "id": "pa1IViofRP2l"
      },
      "outputs": [],
      "source": [
        "len (molecules),len(valid_mols)"
      ]
    },
    {
      "cell_type": "code",
      "source": [
        "y=herg_sm['pIC50']\n",
        "features=herg_sm[herg_sm.columns[0:-2]]"
      ],
      "metadata": {
        "id": "tSVjSb5T25VI"
      },
      "execution_count": null,
      "outputs": []
    },
    {
      "cell_type": "code",
      "source": [
        "features"
      ],
      "metadata": {
        "id": "J1U1QuhLAoTh"
      },
      "execution_count": null,
      "outputs": []
    },
    {
      "cell_type": "markdown",
      "metadata": {
        "id": "aA55FRmIRP2n"
      },
      "source": [
        "# Scaling of variables"
      ]
    },
    {
      "cell_type": "code",
      "source": [
        "from sklearn.preprocessing import StandardScaler, MinMaxScaler"
      ],
      "metadata": {
        "id": "J1FMsUrwBgGY"
      },
      "execution_count": null,
      "outputs": []
    },
    {
      "cell_type": "code",
      "source": [
        "features_scaled=pd.DataFrame(MinMaxScaler().fit_transform(features), columns=features.columns)"
      ],
      "metadata": {
        "id": "uoYmmA6_BxAw"
      },
      "execution_count": null,
      "outputs": []
    },
    {
      "cell_type": "markdown",
      "source": [
        "# Multiple Linear Regression"
      ],
      "metadata": {
        "id": "s0zl_e_SNLmS"
      }
    },
    {
      "cell_type": "code",
      "source": [
        "X_train,X_test,Y_train,Y_test=train_test_split(features,y,test_size=0.25,random_state=0)"
      ],
      "metadata": {
        "id": "hVA0u6z4_-fR"
      },
      "execution_count": null,
      "outputs": []
    },
    {
      "cell_type": "code",
      "source": [
        "reg = LinearRegression().fit(X_train,Y_train)\n",
        "Y_test_predict=reg.predict(X_test)\n",
        "Y_train_predict=reg.predict(X_train)"
      ],
      "metadata": {
        "id": "bWXizUiR_8Sa"
      },
      "execution_count": null,
      "outputs": []
    },
    {
      "cell_type": "code",
      "source": [
        "fig = plt.figure(figsize=(6,6))\n",
        "ax = fig.add_subplot()\n",
        "\n",
        "plt.plot(np.linspace(0,12),np.linspace(0,12),c='k')\n",
        "plt.plot(Y_train,Y_train_predict,'.', alpha=0.1)\n",
        "\n",
        "plt.xlim(0,12)\n",
        "plt.ylim(0,12)\n",
        "plt.xlabel('Actual pIC50')\n",
        "plt.ylabel('Predicted pIC50')\n",
        "\n",
        "ax.set_aspect('equal', adjustable='box')\n",
        "plt.show()"
      ],
      "metadata": {
        "id": "0-HIAlq5lXCs"
      },
      "execution_count": null,
      "outputs": []
    },
    {
      "cell_type": "code",
      "source": [
        "stats.pearsonr(Y_train,Y_train_predict)"
      ],
      "metadata": {
        "id": "OS2fwM1OlcTA"
      },
      "execution_count": null,
      "outputs": []
    },
    {
      "cell_type": "code",
      "source": [
        "fig = plt.figure(figsize=(6,6))\n",
        "ax = fig.add_subplot()\n",
        "\n",
        "plt.plot(np.linspace(0,12),np.linspace(0,12),c='k')\n",
        "plt.plot(Y_train,Y_train_predict,'.', alpha=0.1)\n",
        "plt.plot(Y_test,Y_test_predict,'.')\n",
        "\n",
        "plt.xlim(0,12)\n",
        "plt.ylim(0,12)\n",
        "plt.xlabel('Actual pIC50')\n",
        "plt.ylabel('Predicted pIC50')\n",
        "\n",
        "ax.set_aspect('equal', adjustable='box')\n",
        "plt.show()"
      ],
      "metadata": {
        "id": "46L_yF5Cl59c"
      },
      "execution_count": null,
      "outputs": []
    },
    {
      "cell_type": "code",
      "source": [
        "stats.pearsonr(Y_test,Y_test_predict)"
      ],
      "metadata": {
        "id": "VWYfIrOAkHj6"
      },
      "execution_count": null,
      "outputs": []
    },
    {
      "cell_type": "code",
      "source": [
        "plt.figure(figsize=(6,5))\n",
        "plt.hist(y, bins=50,edgecolor='k')\n",
        "plt.xlabel('Actual pIC50')\n",
        "plt.ylabel('Probability')"
      ],
      "metadata": {
        "id": "QqNGY4J8DQqj"
      },
      "execution_count": null,
      "outputs": []
    },
    {
      "cell_type": "markdown",
      "source": [
        "## Balancing"
      ],
      "metadata": {
        "id": "vQzE7U21ANsl"
      }
    },
    {
      "cell_type": "code",
      "source": [
        "n_bins=100\n",
        "bins=np.linspace(2,11,n_bins+1)"
      ],
      "metadata": {
        "id": "-_1Zb8XUCAAc"
      },
      "execution_count": null,
      "outputs": []
    },
    {
      "cell_type": "code",
      "source": [
        "index_bin=[np.where((y>=bins[i]) & (y<bins[i+1]))[0] for i in range(n_bins)]"
      ],
      "metadata": {
        "id": "IWolAYm7B_-0"
      },
      "execution_count": null,
      "outputs": []
    },
    {
      "cell_type": "code",
      "source": [
        "selected=[np.random.choice(x,size=min(len(x),np.random.randint(40,50)), replace=False) for x in index_bin if len(x)>0]"
      ],
      "metadata": {
        "id": "ANS-GhgNAFDo"
      },
      "execution_count": null,
      "outputs": []
    },
    {
      "cell_type": "code",
      "source": [
        "balanced_y=np.concatenate([y[x] for x in selected])"
      ],
      "metadata": {
        "id": "WSxif1LvB_9Y"
      },
      "execution_count": null,
      "outputs": []
    },
    {
      "cell_type": "code",
      "source": [
        "balanced_features=np.concatenate([np.array(features_scaled)[x] for x in selected])"
      ],
      "metadata": {
        "id": "rh3DwSWpCPvO"
      },
      "execution_count": null,
      "outputs": []
    },
    {
      "cell_type": "code",
      "source": [
        "balanced_molecules=[molecules[x] for x in np.concatenate(selected)]"
      ],
      "metadata": {
        "id": "nI4CUaIfFgCs"
      },
      "execution_count": null,
      "outputs": []
    },
    {
      "cell_type": "code",
      "source": [
        "plt.figure(figsize=(6,5))\n",
        "plt.hist(balanced_y,bins=50,edgecolor='k')\n",
        "plt.xlabel('Actual pIC50')\n",
        "plt.ylabel('Probability')"
      ],
      "metadata": {
        "id": "QjgiGN3BDbvt"
      },
      "execution_count": null,
      "outputs": []
    },
    {
      "cell_type": "code",
      "source": [
        "X_train,X_test,Y_train,Y_test=train_test_split(balanced_features,balanced_y,test_size=0.25,random_state=0)"
      ],
      "metadata": {
        "id": "1LWvZMM2Co6r"
      },
      "execution_count": null,
      "outputs": []
    },
    {
      "cell_type": "code",
      "source": [
        "reg = LinearRegression().fit(X_train,Y_train)\n",
        "Y_test_predict=reg.predict(X_test)\n",
        "Y_train_predict=reg.predict(X_train)"
      ],
      "metadata": {
        "id": "YDPrEKhuC9BX"
      },
      "execution_count": null,
      "outputs": []
    },
    {
      "cell_type": "code",
      "source": [
        "fig = plt.figure(figsize=(6,6))\n",
        "ax = fig.add_subplot()\n",
        "\n",
        "plt.plot(np.linspace(0,12),np.linspace(0,12),c='k')\n",
        "plt.plot(Y_train,Y_train_predict,'.', alpha=0.1)\n",
        "\n",
        "plt.xlim(0,12)\n",
        "plt.ylim(0,12)\n",
        "plt.xlabel('Actual pIC50')\n",
        "plt.ylabel('Predicted pIC50')\n",
        "\n",
        "ax.set_aspect('equal', adjustable='box')\n",
        "plt.show()"
      ],
      "metadata": {
        "id": "fGMjY9snCo4V"
      },
      "execution_count": null,
      "outputs": []
    },
    {
      "cell_type": "code",
      "source": [
        "stats.pearsonr(Y_train,Y_train_predict)"
      ],
      "metadata": {
        "id": "Vm0ok82unh9c"
      },
      "execution_count": null,
      "outputs": []
    },
    {
      "cell_type": "code",
      "source": [
        "fig = plt.figure(figsize=(6,6))\n",
        "ax = fig.add_subplot()\n",
        "\n",
        "plt.plot(np.linspace(0,12),np.linspace(0,12),c='k')\n",
        "plt.plot(Y_train,Y_train_predict,'.', alpha=0.1)\n",
        "plt.plot(Y_test,Y_test_predict,'.')\n",
        "\n",
        "plt.xlim(0,12)\n",
        "plt.ylim(0,12)\n",
        "plt.xlabel('Actual pIC50')\n",
        "plt.ylabel('Predicted pIC50')\n",
        "\n",
        "ax.set_aspect('equal', adjustable='box')\n",
        "plt.show()"
      ],
      "metadata": {
        "id": "qd9JtHyTntQf"
      },
      "execution_count": null,
      "outputs": []
    },
    {
      "cell_type": "code",
      "source": [
        "stats.pearsonr(Y_test,Y_test_predict)"
      ],
      "metadata": {
        "id": "aho9EE7Pnz1N"
      },
      "execution_count": null,
      "outputs": []
    },
    {
      "cell_type": "markdown",
      "source": [
        "# Principal Component Regression"
      ],
      "metadata": {
        "id": "WeGxrhbZFc8B"
      }
    },
    {
      "cell_type": "code",
      "source": [
        "from sklearn.decomposition import PCA"
      ],
      "metadata": {
        "id": "rLUIc4B9MQ6A"
      },
      "execution_count": null,
      "outputs": []
    },
    {
      "cell_type": "code",
      "source": [
        "pca=PCA()"
      ],
      "metadata": {
        "id": "jPxP6MXzMVah"
      },
      "execution_count": null,
      "outputs": []
    },
    {
      "cell_type": "code",
      "source": [
        "new_values=pca.fit_transform(balanced_features)"
      ],
      "metadata": {
        "id": "GdPdlHPQPgQp"
      },
      "execution_count": null,
      "outputs": []
    },
    {
      "cell_type": "code",
      "source": [
        "plt.bar(np.linspace(0,770,771),pca.explained_variance_ratio_)\n",
        "plt.xlim([-0.5,10.5])\n",
        "plt.xlabel(\"Eigenvector #\")\n",
        "plt.ylabel(\"Explained Variance Ratio\")"
      ],
      "metadata": {
        "id": "HBss7rVmQJY2"
      },
      "execution_count": null,
      "outputs": []
    },
    {
      "cell_type": "code",
      "source": [
        "threshold=0.9"
      ],
      "metadata": {
        "id": "2z82m1EpSqSK"
      },
      "execution_count": null,
      "outputs": []
    },
    {
      "cell_type": "code",
      "source": [
        "np.min(np.where(np.cumsum(pca.explained_variance_ratio_)>threshold)[0])"
      ],
      "metadata": {
        "id": "jWoc77WWFB-k"
      },
      "execution_count": null,
      "outputs": []
    },
    {
      "cell_type": "code",
      "source": [
        "reg = LinearRegression().fit(X_train[:,:np.min(np.where(np.cumsum(pca.explained_variance_ratio_)>threshold)[0])],Y_train)\n",
        "Y_test_predict=reg.predict(X_test[:,:np.min(np.where(np.cumsum(pca.explained_variance_ratio_)>threshold)[0])])\n",
        "Y_train_predict=reg.predict(X_train[:,:np.min(np.where(np.cumsum(pca.explained_variance_ratio_)>threshold)[0])])"
      ],
      "metadata": {
        "id": "LPENMN-uPrd_"
      },
      "execution_count": null,
      "outputs": []
    },
    {
      "cell_type": "code",
      "source": [
        "fig = plt.figure(figsize=(6,6))\n",
        "ax = fig.add_subplot()\n",
        "\n",
        "plt.plot(np.linspace(0,12),np.linspace(0,12),c='k')\n",
        "plt.plot(Y_train,Y_train_predict,'.', alpha=0.1)\n",
        "\n",
        "plt.xlim(0,12)\n",
        "plt.ylim(0,12)\n",
        "plt.xlabel('Actual pIC50')\n",
        "plt.ylabel('Predicted pIC50')\n",
        "\n",
        "ax.set_aspect('equal', adjustable='box')\n",
        "plt.show()"
      ],
      "metadata": {
        "id": "cU65L2OtPrY-"
      },
      "execution_count": null,
      "outputs": []
    },
    {
      "cell_type": "code",
      "source": [
        "stats.pearsonr(Y_train,Y_train_predict)"
      ],
      "metadata": {
        "id": "8Wdy_uWwqMqD"
      },
      "execution_count": null,
      "outputs": []
    },
    {
      "cell_type": "code",
      "source": [
        "fig = plt.figure(figsize=(6,6))\n",
        "ax = fig.add_subplot()\n",
        "\n",
        "plt.plot(np.linspace(0,12),np.linspace(0,12),c='k')\n",
        "plt.plot(Y_train,Y_train_predict,'.', alpha=0.1)\n",
        "plt.plot(Y_test,Y_test_predict,'.')\n",
        "\n",
        "plt.xlim(0,12)\n",
        "plt.ylim(0,12)\n",
        "plt.xlabel('Actual pIC50')\n",
        "plt.ylabel('Predicted pIC50')\n",
        "\n",
        "ax.set_aspect('equal', adjustable='box')\n",
        "plt.show()"
      ],
      "metadata": {
        "id": "iXgTO2JvrZ7h"
      },
      "execution_count": null,
      "outputs": []
    },
    {
      "cell_type": "code",
      "source": [
        "stats.pearsonr(Y_test,Y_test_predict)"
      ],
      "metadata": {
        "id": "8FKwcKkkrhbg"
      },
      "execution_count": null,
      "outputs": []
    },
    {
      "cell_type": "code",
      "source": [
        "from sklearn.metrics import mean_squared_error"
      ],
      "metadata": {
        "id": "AJub2Bo_weSS"
      },
      "execution_count": null,
      "outputs": []
    },
    {
      "cell_type": "code",
      "source": [
        "errors=np.empty((len(balanced_features[0,:np.min(np.where(np.cumsum(pca.explained_variance_ratio_)>0.999)[0])]),2))\n",
        "for i in range (len(balanced_features[0,:np.min(np.where(np.cumsum(pca.explained_variance_ratio_)>0.999)[0])])):\n",
        "  X_train_touse=X_train[:,:i+1]\n",
        "  X_test_touse=X_test[:,:i+1]\n",
        "  reg = LinearRegression().fit(X_train_touse,Y_train)\n",
        "  Y_test_predict=reg.predict(X_test_touse)\n",
        "  Y_train_predict=reg.predict(X_train_touse)\n",
        "  errors[i,0]=mean_squared_error(Y_train,Y_train_predict)\n",
        "  errors[i,1]=mean_squared_error(Y_test,Y_test_predict)"
      ],
      "metadata": {
        "id": "Xj8Vn_4CPrM_"
      },
      "execution_count": null,
      "outputs": []
    },
    {
      "cell_type": "code",
      "source": [
        "plt.figure(figsize=(5,5))\n",
        "plt.plot(errors[1:,0][::1],label='Train')\n",
        "plt.plot(errors[1:,1][::1],label='Test')\n",
        "plt.ylim(0,3)\n",
        "\n",
        "plt.xlabel('# Components')\n",
        "plt.ylabel('Error')\n",
        "\n",
        "plt.grid()\n",
        "plt.legend()"
      ],
      "metadata": {
        "id": "gfXhuLyLxBLc"
      },
      "execution_count": null,
      "outputs": []
    },
    {
      "cell_type": "code",
      "source": [
        "np.argmin(errors[1:,1])"
      ],
      "metadata": {
        "id": "tOuqbrUW8R91"
      },
      "execution_count": null,
      "outputs": []
    },
    {
      "cell_type": "code",
      "source": [
        "reg = LinearRegression().fit(X_train[:,:np.argmin(errors[1:,1])],Y_train)\n",
        "Y_test_predict=reg.predict(X_test[:,:np.argmin(errors[1:,1])])\n",
        "Y_train_predict=reg.predict(X_train[:,:np.argmin(errors[1:,1])])"
      ],
      "metadata": {
        "id": "5mMMgi4c8jL6"
      },
      "execution_count": null,
      "outputs": []
    },
    {
      "cell_type": "code",
      "source": [
        "fig = plt.figure(figsize=(6,6))\n",
        "ax = fig.add_subplot()\n",
        "\n",
        "plt.plot(np.linspace(0,12),np.linspace(0,12),c='k')\n",
        "plt.plot(Y_train,Y_train_predict,'.', alpha=0.1)\n",
        "plt.plot(Y_test,Y_test_predict,'.')\n",
        "\n",
        "plt.xlim(0,12)\n",
        "plt.ylim(0,12)\n",
        "plt.xlabel('Actual pIC50')\n",
        "plt.ylabel('Predicted pIC50')\n",
        "\n",
        "ax.set_aspect('equal', adjustable='box')\n",
        "plt.show()"
      ],
      "metadata": {
        "id": "yzoKoIG58v19"
      },
      "execution_count": null,
      "outputs": []
    },
    {
      "cell_type": "code",
      "source": [
        "stats.pearsonr(Y_train,Y_train_predict)"
      ],
      "metadata": {
        "id": "-Bj3RRUm81Ps"
      },
      "execution_count": null,
      "outputs": []
    },
    {
      "cell_type": "code",
      "source": [
        "stats.pearsonr(Y_test,Y_test_predict)"
      ],
      "metadata": {
        "id": "IeyBKZOd82r8"
      },
      "execution_count": null,
      "outputs": []
    },
    {
      "cell_type": "markdown",
      "source": [
        "## Best predictions and Outliers"
      ],
      "metadata": {
        "id": "h-z6KxlIC-22"
      }
    },
    {
      "cell_type": "code",
      "source": [
        "data=Y_test/Y_test_predict"
      ],
      "metadata": {
        "id": "uW5dOcV8DoXt"
      },
      "execution_count": null,
      "outputs": []
    },
    {
      "cell_type": "code",
      "source": [
        "data.mean()"
      ],
      "metadata": {
        "id": "j0LWBCSREEiz"
      },
      "execution_count": null,
      "outputs": []
    },
    {
      "cell_type": "code",
      "source": [
        "data.std()"
      ],
      "metadata": {
        "id": "SCi-l1XlEGPk"
      },
      "execution_count": null,
      "outputs": []
    },
    {
      "cell_type": "code",
      "source": [
        "best=[]\n",
        "index_best=[]\n",
        "for i in np.sort(np.abs(data-1))[:10]:\n",
        "  index_best.append(np.where(np.abs(data-1)==i)[0][0])\n",
        "  best.append(balanced_molecules[np.where(np.abs(data-1)==i)[0][0]])"
      ],
      "metadata": {
        "id": "7hbZ9iTqK3Js"
      },
      "execution_count": null,
      "outputs": []
    },
    {
      "cell_type": "code",
      "source": [
        "index_best"
      ],
      "metadata": {
        "id": "K6j0Y0xuMc_u"
      },
      "execution_count": null,
      "outputs": []
    },
    {
      "cell_type": "code",
      "source": [
        "fig = plt.figure(figsize=(6,6))\n",
        "ax = fig.add_subplot()\n",
        "\n",
        "plt.plot(np.linspace(0,12),np.linspace(0,12),c='k',zorder=0)\n",
        "plt.plot(Y_train,Y_train_predict,'.', alpha=0.1,zorder=0)\n",
        "plt.plot(Y_test,Y_test_predict,'.',zorder=0)\n",
        "plt.scatter(Y_test[index_best],Y_test_predict[index_best], edgecolor=\"black\",zorder=1)\n",
        "\n",
        "plt.xlim(0,12)\n",
        "plt.ylim(0,12)\n",
        "plt.xlabel('Actual pIC50')\n",
        "plt.ylabel('Predicted pIC50')\n",
        "\n",
        "ax.set_aspect('equal', adjustable='box')\n",
        "plt.show()"
      ],
      "metadata": {
        "id": "P_VktpKUMPk-"
      },
      "execution_count": null,
      "outputs": []
    },
    {
      "cell_type": "code",
      "source": [
        "img=rdkit.Chem.Draw.MolsToGridImage(best,molsPerRow=4,subImgSize=(300,300))\n",
        "img"
      ],
      "metadata": {
        "id": "fwEsBR7FK3CH"
      },
      "execution_count": null,
      "outputs": []
    },
    {
      "cell_type": "code",
      "source": [
        "index_outliers=np.where(np.logical_or(data>(data.mean()+data.std()*2),(data<(data.mean()-data.std()*2))))"
      ],
      "metadata": {
        "id": "SB41TrtCEIBM"
      },
      "execution_count": null,
      "outputs": []
    },
    {
      "cell_type": "code",
      "source": [
        "outliers=[]\n",
        "for i in index_outliers[0]:\n",
        "  outliers.append(balanced_molecules[i])"
      ],
      "metadata": {
        "id": "b5ovklhLE3kV"
      },
      "execution_count": null,
      "outputs": []
    },
    {
      "cell_type": "code",
      "source": [
        "fig = plt.figure(figsize=(6,6))\n",
        "ax = fig.add_subplot()\n",
        "\n",
        "plt.plot(np.linspace(0,12),np.linspace(0,12),c='k',zorder=0)\n",
        "plt.plot(Y_train,Y_train_predict,'.', alpha=0.1,zorder=0)\n",
        "plt.plot(Y_test,Y_test_predict,'.',zorder=0)\n",
        "plt.scatter(Y_test[index_outliers],Y_test_predict[index_outliers], edgecolor=\"black\",zorder=1)\n",
        "\n",
        "plt.xlim(0,12)\n",
        "plt.ylim(0,12)\n",
        "plt.xlabel('Actual pIC50')\n",
        "plt.ylabel('Predicted pIC50')\n",
        "\n",
        "ax.set_aspect('equal', adjustable='box')\n",
        "plt.show()"
      ],
      "metadata": {
        "id": "euuXcVsVIXu6"
      },
      "execution_count": null,
      "outputs": []
    },
    {
      "cell_type": "code",
      "source": [
        "img=rdkit.Chem.Draw.MolsToGridImage(outliers,molsPerRow=4,subImgSize=(300,300))\n",
        "img"
      ],
      "metadata": {
        "id": "Tx4h4aN_E3hr"
      },
      "execution_count": null,
      "outputs": []
    },
    {
      "cell_type": "markdown",
      "source": [
        "# Regularization Methods"
      ],
      "metadata": {
        "id": "W6VFxid-Fye5"
      }
    },
    {
      "cell_type": "markdown",
      "source": [
        "## 1. Ridge Regression"
      ],
      "metadata": {
        "id": "QmRTPbCuIOYY"
      }
    },
    {
      "cell_type": "code",
      "source": [
        "from sklearn.linear_model import Ridge"
      ],
      "metadata": {
        "id": "DtjFAFA3JFIb"
      },
      "execution_count": null,
      "outputs": []
    },
    {
      "cell_type": "code",
      "source": [
        "alpha_values=[1e-9,1e-8,1e-7,1e-6,1e-5,1e-4,2.5e-4,5e-4,7.5e-4,1e-3,2.5e-3,5e-3,7.5e-3,1e-2,2.5e-2,5e-2,7.5e-2,0.1,0.25,0.5,0.75,1,10,1e2,1e3,1e4,1e5,1e6,1e7,1e8,1e9]"
      ],
      "metadata": {
        "id": "QRPbdrBhQ1-4"
      },
      "execution_count": null,
      "outputs": []
    },
    {
      "cell_type": "code",
      "source": [
        "errors_ridge=np.empty((len(alpha_values),2))\n",
        "for n,i in enumerate(alpha_values):\n",
        "  reg=Ridge(alpha=i).fit(X_train,Y_train)\n",
        "  Y_test_predict=reg.predict(X_test)\n",
        "  Y_train_predict=reg.predict(X_train)\n",
        "  errors_ridge[n,0]=mean_squared_error(Y_train,Y_train_predict)\n",
        "  errors_ridge[n,1]=mean_squared_error(Y_test,Y_test_predict)"
      ],
      "metadata": {
        "id": "L0XFB1FmNKJn"
      },
      "execution_count": null,
      "outputs": []
    },
    {
      "cell_type": "code",
      "source": [
        "plt.figure(figsize=(8,5))\n",
        "plt.plot(errors_ridge[1:,0][::1],label='Train')\n",
        "plt.plot(errors_ridge[1:,1][::1],label='Test')\n",
        "\n",
        "plt.xticks(np.arange(0,len(alpha_values)),alpha_values, rotation=45, fontsize=8)\n",
        "plt.ylim(0,3)\n",
        "plt.xlabel('Regularization Strength')\n",
        "plt.ylabel('Error')\n",
        "\n",
        "plt.legend()"
      ],
      "metadata": {
        "id": "qB5ClcqwR2VH"
      },
      "execution_count": null,
      "outputs": []
    },
    {
      "cell_type": "code",
      "source": [
        "errors_ridge[1:,1]"
      ],
      "metadata": {
        "id": "eYnbec1vgLOb"
      },
      "execution_count": null,
      "outputs": []
    },
    {
      "cell_type": "code",
      "source": [
        "np.argmin(errors_ridge[1:,1])"
      ],
      "metadata": {
        "id": "y4vusWd4f7Zu"
      },
      "execution_count": null,
      "outputs": []
    },
    {
      "cell_type": "code",
      "source": [
        "alpha_values[np.argmin(errors_ridge[1:,1])]"
      ],
      "metadata": {
        "id": "6NnbmZhBiJLB"
      },
      "execution_count": null,
      "outputs": []
    },
    {
      "cell_type": "code",
      "source": [
        "reg=Ridge(alpha=alpha_values[np.argmin(errors_ridge[1:,1])]).fit(X_train,Y_train)\n",
        "Y_test_predict=reg.predict(X_test)\n",
        "Y_train_predict=reg.predict(X_train)\n",
        "errors_ridge[n,0]=mean_squared_error(Y_train,Y_train_predict)\n",
        "errors_ridge[n,1]=mean_squared_error(Y_test,Y_test_predict)"
      ],
      "metadata": {
        "id": "YdgEdC1UiF8L"
      },
      "execution_count": null,
      "outputs": []
    },
    {
      "cell_type": "code",
      "source": [
        "fig = plt.figure(figsize=(6,6))\n",
        "ax = fig.add_subplot()\n",
        "\n",
        "plt.plot(np.linspace(0,12),np.linspace(0,12),c='k')\n",
        "plt.plot(Y_train,Y_train_predict,'.', alpha=0.1)\n",
        "plt.plot(Y_test,Y_test_predict,'.')\n",
        "\n",
        "plt.xlim(0,12)\n",
        "plt.ylim(0,12)\n",
        "plt.xlabel('Actual pIC50')\n",
        "plt.ylabel('Predicted pIC50')\n",
        "\n",
        "ax.set_aspect('equal', adjustable='box')\n",
        "plt.show()"
      ],
      "metadata": {
        "id": "e_tjp3x2gcZ-"
      },
      "execution_count": null,
      "outputs": []
    },
    {
      "cell_type": "code",
      "source": [
        "stats.pearsonr(Y_train,Y_train_predict)"
      ],
      "metadata": {
        "id": "5oL--h0BicjZ"
      },
      "execution_count": null,
      "outputs": []
    },
    {
      "cell_type": "code",
      "source": [
        "stats.pearsonr(Y_test,Y_test_predict)"
      ],
      "metadata": {
        "id": "3cRqEeEyieRH"
      },
      "execution_count": null,
      "outputs": []
    },
    {
      "cell_type": "markdown",
      "source": [
        "## 2. Lasso Regression"
      ],
      "metadata": {
        "id": "OvF17fVkMJl8"
      }
    },
    {
      "cell_type": "code",
      "source": [
        "from sklearn.linear_model import Lasso"
      ],
      "metadata": {
        "id": "PIygmCMVMJLO"
      },
      "execution_count": null,
      "outputs": []
    },
    {
      "cell_type": "code",
      "source": [
        "alpha_values=[1e-9,1e-8,1e-7,1e-6,1e-5,1e-4,2.5e-4,5e-4,7.5e-4,1e-3,2.5e-3,5e-3,7.5e-3,1e-2,2.5e-2,5e-2,7.5e-2,0.1,0.25,0.5,0.75,1,10,1e2,1e3,1e4,1e5,1e6,1e7,1e8,1e9]"
      ],
      "metadata": {
        "id": "D8aAQmcWjX2I"
      },
      "execution_count": null,
      "outputs": []
    },
    {
      "cell_type": "code",
      "source": [
        "errors_lasso=np.empty((len(alpha_values),2))\n",
        "for n,i in enumerate(alpha_values):\n",
        "  reg=Lasso(alpha=i).fit(X_train,Y_train)\n",
        "  Y_test_predict=reg.predict(X_test)\n",
        "  Y_train_predict=reg.predict(X_train)\n",
        "  errors_lasso[n,0]=mean_squared_error(Y_train,Y_train_predict)\n",
        "  errors_lasso[n,1]=mean_squared_error(Y_test,Y_test_predict)"
      ],
      "metadata": {
        "id": "gygHSJ76MJIR"
      },
      "execution_count": null,
      "outputs": []
    },
    {
      "cell_type": "code",
      "source": [
        "plt.figure(figsize=(8,5))\n",
        "plt.plot(errors_lasso[1:,0][::1],label='Train')\n",
        "plt.plot(errors_lasso[1:,1][::1],label='Test')\n",
        "\n",
        "plt.xticks(np.arange(0,len(alpha_values)),alpha_values, rotation=45, fontsize=8)\n",
        "\n",
        "plt.xlabel('Regularization Strength')\n",
        "plt.ylabel('Error')\n",
        "\n",
        "plt.legend()"
      ],
      "metadata": {
        "id": "JHLJiH2PLm7q"
      },
      "execution_count": null,
      "outputs": []
    },
    {
      "cell_type": "code",
      "source": [
        "alpha_values[np.argmin(errors_lasso[1:,1])]"
      ],
      "metadata": {
        "id": "c6Z7BtnOyleh"
      },
      "execution_count": null,
      "outputs": []
    },
    {
      "cell_type": "code",
      "source": [
        "reg=Lasso(alpha=alpha_values[np.argmin(errors_lasso[1:,1])]).fit(X_train,Y_train)\n",
        "Y_test_predict=reg.predict(X_test)\n",
        "Y_train_predict=reg.predict(X_train)\n",
        "errors_lasso[n,0]=mean_squared_error(Y_train,Y_train_predict)\n",
        "errors_lasso[n,1]=mean_squared_error(Y_test,Y_test_predict)"
      ],
      "metadata": {
        "id": "5GQqSDcZj95Y"
      },
      "execution_count": null,
      "outputs": []
    },
    {
      "cell_type": "code",
      "source": [
        "fig = plt.figure(figsize=(6,6))\n",
        "ax = fig.add_subplot()\n",
        "\n",
        "plt.plot(np.linspace(0,12),np.linspace(0,12),c='k')\n",
        "plt.plot(Y_train,Y_train_predict,'.', alpha=0.1)\n",
        "plt.plot(Y_test,Y_test_predict,'.')\n",
        "\n",
        "plt.xlim(0,12)\n",
        "plt.ylim(0,12)\n",
        "plt.xlabel('Actual pIC50')\n",
        "plt.ylabel('Predicted pIC50')\n",
        "\n",
        "ax.set_aspect('equal', adjustable='box')\n",
        "plt.show()"
      ],
      "metadata": {
        "id": "4u5goalykMiY"
      },
      "execution_count": null,
      "outputs": []
    },
    {
      "cell_type": "code",
      "source": [
        "stats.pearsonr(Y_train,Y_train_predict)"
      ],
      "metadata": {
        "id": "p0n85Kb_kRpJ"
      },
      "execution_count": null,
      "outputs": []
    },
    {
      "cell_type": "code",
      "source": [
        "stats.pearsonr(Y_test,Y_test_predict)"
      ],
      "metadata": {
        "id": "8cWBzhAFkViW"
      },
      "execution_count": null,
      "outputs": []
    }
  ],
  "metadata": {
    "colab": {
      "provenance": [],
      "toc_visible": true
    },
    "kernelspec": {
      "display_name": "work",
      "language": "python",
      "name": "python3"
    },
    "language_info": {
      "codemirror_mode": {
        "name": "ipython",
        "version": 3
      },
      "file_extension": ".py",
      "mimetype": "text/x-python",
      "name": "python",
      "nbconvert_exporter": "python",
      "pygments_lexer": "ipython3",
      "version": "3.12.7"
    },
    "orig_nbformat": 4
  },
  "nbformat": 4,
  "nbformat_minor": 0
}