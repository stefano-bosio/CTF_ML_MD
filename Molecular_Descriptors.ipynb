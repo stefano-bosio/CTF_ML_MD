{
  "cells": [
    {
      "cell_type": "markdown",
      "source": [
        "# Import libraries"
      ],
      "metadata": {
        "id": "319JRYiklL12"
      }
    },
    {
      "cell_type": "code",
      "execution_count": null,
      "metadata": {
        "id": "rbbRtAM9v78a"
      },
      "outputs": [],
      "source": [
        "!pip install rdkit"
      ]
    },
    {
      "cell_type": "code",
      "execution_count": 2,
      "metadata": {
        "id": "I6W5Ebtrv5rX"
      },
      "outputs": [],
      "source": [
        "import rdkit, rdkit.Chem, rdkit.Chem.Draw\n",
        "from rdkit.Chem import Descriptors\n",
        "import numpy as np\n",
        "import matplotlib.pyplot as plt\n",
        "import pandas as pd\n",
        "from matplotlib import colormaps\n",
        "from rdkit.Chem import Descriptors\n",
        "from pandas.plotting import scatter_matrix"
      ]
    },
    {
      "cell_type": "markdown",
      "source": [
        "# Read the database"
      ],
      "metadata": {
        "id": "ixCjmbZllRG4"
      }
    },
    {
      "cell_type": "code",
      "execution_count": 3,
      "metadata": {
        "id": "3TOjN3DkwUKb"
      },
      "outputs": [],
      "source": [
        "url_corso= 'https://raw.githubusercontent.com/stefano-bosio/CTF_ML_MD/main/Lipophilicity.csv'"
      ]
    },
    {
      "cell_type": "code",
      "execution_count": 4,
      "metadata": {
        "id": "1JlBs578v5rZ"
      },
      "outputs": [],
      "source": [
        "data = pd.read_csv(url_corso)"
      ]
    },
    {
      "cell_type": "code",
      "execution_count": null,
      "metadata": {
        "id": "NLWJ1n2Bv5ra"
      },
      "outputs": [],
      "source": [
        "data"
      ]
    },
    {
      "cell_type": "code",
      "execution_count": 8,
      "metadata": {
        "id": "Twy7vsamv5ra"
      },
      "outputs": [],
      "source": [
        "molecules=[rdkit.Chem.MolFromSmiles(smi) for smi in data['smiles']]"
      ]
    },
    {
      "cell_type": "code",
      "execution_count": null,
      "metadata": {
        "id": "x1JcE_PMv5rb"
      },
      "outputs": [],
      "source": [
        "molecules[10]"
      ]
    },
    {
      "cell_type": "code",
      "execution_count": 16,
      "metadata": {
        "id": "QbrkDbTov5rb"
      },
      "outputs": [],
      "source": [
        "subset=[x for x in molecules[:9]]"
      ]
    },
    {
      "cell_type": "code",
      "execution_count": null,
      "metadata": {
        "id": "r-bzqvGjv5rc"
      },
      "outputs": [],
      "source": [
        "img=rdkit.Chem.Draw.MolsToGridImage(subset,molsPerRow=3,subImgSize=(300,300))\n",
        "img"
      ]
    },
    {
      "cell_type": "code",
      "execution_count": 18,
      "metadata": {
        "id": "hC8sTr39v5rd"
      },
      "outputs": [],
      "source": [
        "valid_mols=[x for x in molecules if x != None]"
      ]
    },
    {
      "cell_type": "code",
      "execution_count": null,
      "metadata": {
        "id": "sn27Een6v5rd"
      },
      "outputs": [],
      "source": [
        "len(molecules),len(valid_mols)"
      ]
    },
    {
      "cell_type": "code",
      "execution_count": 21,
      "metadata": {
        "id": "BR5ivWolv5rf"
      },
      "outputs": [],
      "source": [
        "features=pd.DataFrame()\n",
        "for i,mol in enumerate(molecules):\n",
        "    features.loc[i,'MolWt']=Descriptors.MolWt(mol)\n",
        "    features.loc[i,'NumHAcceptors']=Descriptors.NumHAcceptors(mol)\n",
        "    features.loc[i,'NumHDonors']=Descriptors.NumHDonors(mol)\n",
        "    features.loc[i,'NumRotBonds']=Descriptors.NumRotatableBonds(mol)\n",
        "    features.loc[i,'NumHeteroatoms']=Descriptors.NumHeteroatoms(mol)\n",
        "    features.loc[i,'FractionCSP3']=Descriptors.FractionCSP3(mol)\n",
        "    features.loc[i,'RingCount']=Descriptors.RingCount(mol)\n",
        "    features.loc[i,'TPSA']=Descriptors.TPSA(mol)\n",
        "    features.loc[i,'Stereocenters']=rdkit.Chem.rdMolDescriptors.CalcNumAtomStereoCenters(mol)\n",
        "    features.loc[i,'Spiro']=rdkit.Chem.rdMolDescriptors.CalcNumSpiroAtoms(mol)\n",
        "\n"
      ]
    },
    {
      "cell_type": "code",
      "execution_count": null,
      "metadata": {
        "id": "1-PGC7BEv5rg"
      },
      "outputs": [],
      "source": [
        "features"
      ]
    },
    {
      "cell_type": "markdown",
      "source": [
        "# Scaling of variables"
      ],
      "metadata": {
        "id": "xAWVgUIblp5a"
      }
    },
    {
      "cell_type": "code",
      "execution_count": 23,
      "metadata": {
        "id": "1QGJZ6Qlv5ri"
      },
      "outputs": [],
      "source": [
        "from sklearn.preprocessing import StandardScaler, MinMaxScaler"
      ]
    },
    {
      "cell_type": "code",
      "execution_count": 44,
      "metadata": {
        "id": "5DtvEl8Pv5ri"
      },
      "outputs": [],
      "source": [
        "features_scaled=pd.DataFrame(MinMaxScaler().fit_transform(features), columns=features.columns)"
      ]
    },
    {
      "cell_type": "code",
      "execution_count": null,
      "metadata": {
        "id": "fXjM5y-Xv5ri"
      },
      "outputs": [],
      "source": [
        "print(features.min(),\"\\n\")\n",
        "print(features.max(),\"\\n\")\n",
        "print(features_scaled.min(),\"\\n\")\n",
        "print(features_scaled.max(),\"\\n\")"
      ]
    },
    {
      "cell_type": "markdown",
      "source": [
        "# Compute correlation"
      ],
      "metadata": {
        "id": "Yr1pkWgvlfcA"
      }
    },
    {
      "cell_type": "code",
      "execution_count": null,
      "metadata": {
        "id": "t_S9Amljv5rj"
      },
      "outputs": [],
      "source": [
        "correlations=features_scaled.corr()\n",
        "correlations"
      ]
    },
    {
      "cell_type": "code",
      "execution_count": 47,
      "metadata": {
        "id": "KCK_1wU5v5rj"
      },
      "outputs": [],
      "source": [
        "ticks=[x for x  in features_scaled.columns]"
      ]
    },
    {
      "cell_type": "code",
      "execution_count": null,
      "metadata": {
        "id": "Dm5rzjjvv5rk"
      },
      "outputs": [],
      "source": [
        "ticks"
      ]
    },
    {
      "cell_type": "code",
      "execution_count": null,
      "metadata": {
        "id": "4S8sqm-Ev5rk"
      },
      "outputs": [],
      "source": [
        "plt.figure(figsize=(8,8))\n",
        "plt.matshow(np.array(correlations), fignum=0, cmap='RdBu')\n",
        "plt.xticks(np.linspace(0,9,10),ticks,rotation= 90)\n",
        "plt.yticks(np.linspace(0,9,10),ticks)\n",
        "plt.colorbar()\n",
        "plt.clim((-1,1))"
      ]
    },
    {
      "cell_type": "code",
      "execution_count": null,
      "metadata": {
        "id": "EkAJeMu9v5rl"
      },
      "outputs": [],
      "source": [
        "scatter_matrix(features_scaled, figsize=(20,20))\n",
        "plt.show()"
      ]
    }
  ],
  "metadata": {
    "colab": {
      "provenance": []
    },
    "kernelspec": {
      "display_name": "Python 3.9.0 ('base')",
      "language": "python",
      "name": "python3"
    },
    "language_info": {
      "codemirror_mode": {
        "name": "ipython",
        "version": 3
      },
      "file_extension": ".py",
      "mimetype": "text/x-python",
      "name": "python",
      "nbconvert_exporter": "python",
      "pygments_lexer": "ipython3",
      "version": "3.9.0"
    },
    "vscode": {
      "interpreter": {
        "hash": "c279850e43ba37a04db8f5019f0b924b09cea5a90073783a7a948114b35e719b"
      }
    }
  },
  "nbformat": 4,
  "nbformat_minor": 0
}