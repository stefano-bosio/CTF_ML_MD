{
  "cells": [
    {
      "cell_type": "markdown",
      "source": [
        "# Import libraries"
      ],
      "metadata": {
        "id": "opF9P5Y087He"
      }
    },
    {
      "cell_type": "code",
      "source": [
        "!pip install rdkit"
      ],
      "metadata": {
        "id": "lWvay8L-1BEE"
      },
      "execution_count": null,
      "outputs": []
    },
    {
      "cell_type": "code",
      "execution_count": null,
      "metadata": {
        "id": "BK7eg7sq09mz"
      },
      "outputs": [],
      "source": [
        "import rdkit, rdkit.Chem, rdkit.Chem.Draw\n",
        "from rdkit.Chem import Descriptors\n",
        "import numpy as np\n",
        "import matplotlib.pyplot as plt\n",
        "import pandas as pd\n",
        "from sklearn.metrics import pairwise_distances_argmin_min\n",
        "import matplotlib"
      ]
    },
    {
      "cell_type": "markdown",
      "source": [
        "# Read the database"
      ],
      "metadata": {
        "id": "zDKSz1JF9YRx"
      }
    },
    {
      "cell_type": "code",
      "source": [
        "!wget https://raw.githubusercontent.com/stefano-bosio/CTF_ML_MD/main/kinase-examples.smi\n",
        "!wget https://raw.githubusercontent.com/stefano-bosio/CTF_ML_MD/main/lgic-examples.smi"
      ],
      "metadata": {
        "id": "Ufl1_iKH6KUi"
      },
      "execution_count": null,
      "outputs": []
    },
    {
      "cell_type": "code",
      "execution_count": null,
      "metadata": {
        "id": "f-K-wF4309m2"
      },
      "outputs": [],
      "source": [
        "suppl_kinases=rdkit.Chem.rdmolfiles.SmilesMolSupplier('kinase-examples.smi')\n",
        "kinases=[x for x in suppl_kinases]"
      ]
    },
    {
      "cell_type": "code",
      "execution_count": null,
      "metadata": {
        "id": "UHfc0l3c09m3"
      },
      "outputs": [],
      "source": [
        "suppl_lgic=rdkit.Chem.rdmolfiles.SmilesMolSupplier('lgic-examples.smi')\n",
        "lgic=[x for x in suppl_lgic]"
      ]
    },
    {
      "cell_type": "code",
      "execution_count": null,
      "metadata": {
        "id": "mBe_2tiE09m4"
      },
      "outputs": [],
      "source": [
        "features_kinases=pd.DataFrame()\n",
        "for i,mol in enumerate(kinases):\n",
        "    features_kinases.loc[i,'MolWt']=Descriptors.MolWt(mol)\n",
        "    features_kinases.loc[i,'NumHAcceptors']=Descriptors.NumHAcceptors(mol)\n",
        "    features_kinases.loc[i,'NumHDonors']=Descriptors.NumHDonors(mol)\n",
        "    features_kinases.loc[i,'NumRotBonds']=Descriptors.NumRotatableBonds(mol)\n",
        "    features_kinases.loc[i,'NumHeteroatoms']=Descriptors.NumHeteroatoms(mol)\n",
        "    features_kinases.loc[i,'FractionCSP3']=Descriptors.FractionCSP3(mol)\n",
        "    features_kinases.loc[i,'RingCount']=Descriptors.RingCount(mol)\n",
        "    features_kinases.loc[i,'TPSA']=Descriptors.TPSA(mol)\n",
        "    features_kinases.loc[i,'Stereocenters']=rdkit.Chem.rdMolDescriptors.CalcNumAtomStereoCenters(mol)\n",
        "    features_kinases.loc[i,'Spiro']=rdkit.Chem.rdMolDescriptors.CalcNumSpiroAtoms(mol)\n",
        "    features_kinases.loc[i,'NumArR']=Descriptors.NumAromaticRings(mol)\n",
        "    features_kinases.loc[i,'NumAliR']=Descriptors.NumAliphaticRings(mol)\n",
        "    features_kinases.loc[i,'set']=0"
      ]
    },
    {
      "cell_type": "code",
      "execution_count": null,
      "metadata": {
        "id": "x3LmGscd09m5"
      },
      "outputs": [],
      "source": [
        "features_kinases"
      ]
    },
    {
      "cell_type": "code",
      "execution_count": null,
      "metadata": {
        "id": "PIZZ3bxG09m6"
      },
      "outputs": [],
      "source": [
        "features_lgic=pd.DataFrame()\n",
        "for i,mol in enumerate(lgic):\n",
        "    features_lgic.loc[i,'MolWt']=Descriptors.MolWt(mol)\n",
        "    features_lgic.loc[i,'NumHAcceptors']=Descriptors.NumHAcceptors(mol)\n",
        "    features_lgic.loc[i,'NumHDonors']=Descriptors.NumHDonors(mol)\n",
        "    features_lgic.loc[i,'NumRotBonds']=Descriptors.NumRotatableBonds(mol)\n",
        "    features_lgic.loc[i,'NumHeteroatoms']=Descriptors.NumHeteroatoms(mol)\n",
        "    features_lgic.loc[i,'FractionCSP3']=Descriptors.FractionCSP3(mol)\n",
        "    features_lgic.loc[i,'RingCount']=Descriptors.RingCount(mol)\n",
        "    features_lgic.loc[i,'TPSA']=Descriptors.TPSA(mol)\n",
        "    features_lgic.loc[i,'Stereocenters']=rdkit.Chem.rdMolDescriptors.CalcNumAtomStereoCenters(mol)\n",
        "    features_lgic.loc[i,'Spiro']=rdkit.Chem.rdMolDescriptors.CalcNumSpiroAtoms(mol)\n",
        "    features_lgic.loc[i,'NumArR']=Descriptors.NumAromaticRings(mol)\n",
        "    features_lgic.loc[i,'NumAliR']=Descriptors.NumAliphaticRings(mol)\n",
        "    features_lgic.loc[i,'set']=1"
      ]
    },
    {
      "cell_type": "code",
      "execution_count": null,
      "metadata": {
        "id": "MdRDEBoP09m8"
      },
      "outputs": [],
      "source": [
        "features_lgic"
      ]
    },
    {
      "cell_type": "code",
      "execution_count": null,
      "metadata": {
        "id": "dTH4ycUW09m9"
      },
      "outputs": [],
      "source": [
        "features=pd.concat((features_kinases,features_lgic))"
      ]
    },
    {
      "cell_type": "code",
      "execution_count": null,
      "metadata": {
        "id": "-E9Vy2hR09m-"
      },
      "outputs": [],
      "source": [
        "features"
      ]
    },
    {
      "cell_type": "markdown",
      "source": [
        "# Feature Selection"
      ],
      "metadata": {
        "id": "KAJnUTgKs4ay"
      }
    },
    {
      "cell_type": "markdown",
      "metadata": {
        "id": "KUM_S8_U09m_"
      },
      "source": [
        "### Scaling of variables"
      ]
    },
    {
      "cell_type": "code",
      "execution_count": null,
      "metadata": {
        "id": "t2XQxW3E09nB"
      },
      "outputs": [],
      "source": [
        "from sklearn.preprocessing import StandardScaler, MinMaxScaler"
      ]
    },
    {
      "cell_type": "code",
      "execution_count": null,
      "metadata": {
        "id": "gT0ncpaG09nC"
      },
      "outputs": [],
      "source": [
        "features_scaled=pd.DataFrame(MinMaxScaler().fit_transform(features), columns=features.columns)"
      ]
    },
    {
      "cell_type": "markdown",
      "metadata": {
        "id": "Kg2NJcPkRN5H"
      },
      "source": [
        "## 1. Univariate Linear Filtering"
      ]
    },
    {
      "cell_type": "code",
      "metadata": {
        "id": "evZ0LUW9RN5K"
      },
      "source": [
        "from numpy import set_printoptions\n",
        "from sklearn.feature_selection import SelectKBest\n",
        "from sklearn.feature_selection import mutual_info_classif"
      ],
      "execution_count": null,
      "outputs": []
    },
    {
      "cell_type": "code",
      "metadata": {
        "id": "eTs-DqyQRN5P"
      },
      "source": [
        "array = features_scaled.values"
      ],
      "execution_count": null,
      "outputs": []
    },
    {
      "cell_type": "code",
      "source": [
        "X = array[:,0:12]\n",
        "Y = array[:,12]\n",
        "feat=features.columns"
      ],
      "metadata": {
        "id": "PMvTpoTyiGGL"
      },
      "execution_count": null,
      "outputs": []
    },
    {
      "cell_type": "code",
      "metadata": {
        "id": "xavljlu0lAR3"
      },
      "source": [
        "X.shape"
      ],
      "execution_count": null,
      "outputs": []
    },
    {
      "cell_type": "code",
      "metadata": {
        "id": "jbOHslallCfW"
      },
      "source": [
        "Y.shape"
      ],
      "execution_count": null,
      "outputs": []
    },
    {
      "cell_type": "code",
      "metadata": {
        "id": "Z17GQmcbRN5T"
      },
      "source": [
        "test = SelectKBest(score_func=mutual_info_classif)\n",
        "fit = test.fit(X, Y)"
      ],
      "execution_count": null,
      "outputs": []
    },
    {
      "cell_type": "code",
      "source": [
        "scores=pd.DataFrame(feat[:-1],columns=['feat'])\n",
        "scores['scores']=fit.scores_\n",
        "scores.sort_values(by='scores', ascending=False, inplace=True)\n",
        "print(scores)"
      ],
      "metadata": {
        "id": "2M-EPk2e5JDx"
      },
      "execution_count": null,
      "outputs": []
    },
    {
      "cell_type": "markdown",
      "metadata": {
        "id": "cj-JUxDxRN5u"
      },
      "source": [
        "## 2. Wrapping through Recursive Feature Elimination"
      ]
    },
    {
      "cell_type": "code",
      "metadata": {
        "id": "FP-jW8WKRN5w"
      },
      "source": [
        "from sklearn.feature_selection import RFE\n",
        "from sklearn.feature_selection import RFECV\n",
        "from sklearn.linear_model import LogisticRegression"
      ],
      "execution_count": null,
      "outputs": []
    },
    {
      "cell_type": "code",
      "metadata": {
        "scrolled": true,
        "id": "Oc1qtNuiRN50"
      },
      "source": [
        "model = LogisticRegression(solver='lbfgs', max_iter=5000)\n",
        "data=[]\n",
        "\n",
        "for i in range(len(feat[:-1])):\n",
        "  n_feat=len(feat[:-1])-i\n",
        "\n",
        "  rfe = RFE(model, n_features_to_select=n_feat)   # seek for n_feat features\n",
        "  fit = rfe.fit(X, Y)\n",
        "\n",
        "  data.append((fit.ranking_))\n",
        "  scores=pd.DataFrame(feat[:-1],columns=['feat'])\n",
        "  scores['scores']=fit.ranking_\n",
        "  scores.sort_values(by='scores',ascending=True,inplace=True)\n",
        "\n",
        "  print(f\"Model with {n_feat} features\")\n",
        "  print(scores)"
      ],
      "execution_count": null,
      "outputs": []
    },
    {
      "cell_type": "code",
      "source": [
        "model = LogisticRegression(solver='lbfgs', max_iter=5000)\n",
        "\n",
        "rfe = RFECV(model)   # seek for best number of features\n",
        "fit = rfe.fit(X, Y)\n",
        "\n",
        "scores=pd.DataFrame(feat[:-1],columns=['feat'])\n",
        "scores['scores']=fit.ranking_\n",
        "scores.sort_values(by='scores',ascending=True,inplace=True)\n",
        "\n",
        "print(f\"Model with {fit.n_features_} features\")\n",
        "print(scores)"
      ],
      "metadata": {
        "id": "Rb06yhj49alN"
      },
      "execution_count": null,
      "outputs": []
    },
    {
      "cell_type": "code",
      "source": [
        "plt.plot(range(1,len(feat)),fit.cv_results_['mean_test_score'],marker='o')\n",
        "plt.xlabel(\"# Features\")\n",
        "plt.ylabel(\"CV score\")"
      ],
      "metadata": {
        "id": "I--EqbtLFwtZ"
      },
      "execution_count": null,
      "outputs": []
    },
    {
      "cell_type": "markdown",
      "metadata": {
        "id": "yqG9Uyk8RN6L"
      },
      "source": [
        "# Feature Extraction aka Dimensionality Reduction"
      ]
    },
    {
      "cell_type": "markdown",
      "source": [
        "## Principal Component Analysis"
      ],
      "metadata": {
        "id": "i7tkNIjUtLQN"
      }
    },
    {
      "cell_type": "code",
      "metadata": {
        "id": "Q0ujqO0sRN6N"
      },
      "source": [
        "from sklearn.decomposition import PCA"
      ],
      "execution_count": null,
      "outputs": []
    },
    {
      "cell_type": "code",
      "execution_count": null,
      "metadata": {
        "id": "Z8W_EdcT09nE"
      },
      "outputs": [],
      "source": [
        "pca=PCA()"
      ]
    },
    {
      "cell_type": "code",
      "execution_count": null,
      "metadata": {
        "id": "Y1Jqig5309nF"
      },
      "outputs": [],
      "source": [
        "low_dim=pca.fit_transform(X)"
      ]
    },
    {
      "cell_type": "code",
      "execution_count": null,
      "metadata": {
        "id": "fe3RUWDI09nF"
      },
      "outputs": [],
      "source": [
        "low_dim.shape"
      ]
    },
    {
      "cell_type": "code",
      "execution_count": null,
      "metadata": {
        "id": "t8w-J14E09nG"
      },
      "outputs": [],
      "source": [
        "low_dim[:,0].shape"
      ]
    },
    {
      "cell_type": "code",
      "source": [
        "plt.bar(np.linspace(0,len(pca.explained_variance_ratio_), num=len(pca.explained_variance_ratio_)),pca.explained_variance_ratio_)\n",
        "plt.xlabel(\"Eigenvector #\")\n",
        "plt.ylabel(\"Explained Variance Ratio\")"
      ],
      "metadata": {
        "id": "EAt8yYo3-kMx"
      },
      "execution_count": null,
      "outputs": []
    },
    {
      "cell_type": "code",
      "execution_count": null,
      "metadata": {
        "id": "hJWdM2yi09nH"
      },
      "outputs": [],
      "source": [
        "plt.figure(figsize=(8,8))\n",
        "plt.scatter(low_dim[:1999,0], low_dim[:1999,1])\n",
        "plt.scatter(low_dim[2000:,0], low_dim[2000:,1])\n",
        "plt.xlabel(\"PC1\")\n",
        "plt.ylabel(\"PC2\")"
      ]
    },
    {
      "cell_type": "code",
      "source": [
        "from sklearn.cluster import *"
      ],
      "metadata": {
        "id": "FGFP2bDISS4y"
      },
      "execution_count": null,
      "outputs": []
    },
    {
      "cell_type": "code",
      "source": [
        "kmeans=KMeans(n_clusters=8,random_state=8).fit(low_dim[:,:2])"
      ],
      "metadata": {
        "id": "3n7gBJX2SSu1"
      },
      "execution_count": null,
      "outputs": []
    },
    {
      "cell_type": "code",
      "source": [
        "np.unique(kmeans.labels_)"
      ],
      "metadata": {
        "id": "SGFVg2ndSSiZ"
      },
      "execution_count": null,
      "outputs": []
    },
    {
      "cell_type": "code",
      "source": [
        "plt.figure(figsize=(8,8))\n",
        "plt.scatter(low_dim[:,0], low_dim[:,1],c=kmeans.labels_)\n",
        "plt.xlabel(\"PC1\")\n",
        "plt.ylabel(\"PC2\")"
      ],
      "metadata": {
        "id": "y0e2JwWITALP"
      },
      "execution_count": null,
      "outputs": []
    },
    {
      "cell_type": "code",
      "source": [
        "tot=kinases+lgic"
      ],
      "metadata": {
        "id": "kLESHqInhSFW"
      },
      "execution_count": null,
      "outputs": []
    },
    {
      "cell_type": "code",
      "source": [
        "len(tot)"
      ],
      "metadata": {
        "id": "eEceWHDdhSCp"
      },
      "execution_count": null,
      "outputs": []
    },
    {
      "cell_type": "code",
      "source": [
        "closest_points= pairwise_distances_argmin_min(kmeans.cluster_centers_, low_dim[:,:2])\n",
        "closest_points"
      ],
      "metadata": {
        "id": "1DAtzoB9T5ex"
      },
      "execution_count": null,
      "outputs": []
    },
    {
      "cell_type": "code",
      "source": [
        "low_dim[closest_points[0]].shape"
      ],
      "metadata": {
        "id": "Eo6kk8ghavnV"
      },
      "execution_count": null,
      "outputs": []
    },
    {
      "cell_type": "code",
      "source": [
        "low_dim[closest_points[0],0]"
      ],
      "metadata": {
        "id": "-SM7v3fmbNlY"
      },
      "execution_count": null,
      "outputs": []
    },
    {
      "cell_type": "code",
      "source": [
        "low_dim[closest_points[0],1]"
      ],
      "metadata": {
        "id": "_hKUHkiwbRH_"
      },
      "execution_count": null,
      "outputs": []
    },
    {
      "cell_type": "code",
      "source": [
        "it=0\n",
        "plt.figure(figsize=(8,8))\n",
        "plt.scatter(low_dim[:,0], low_dim[:,1],c=kmeans.labels_)\n",
        "for i in closest_points[0]:\n",
        "  it+=1\n",
        "  plt.scatter(low_dim[i,0], low_dim[i,1],marker='o',s=100,edgecolor=\"black\",color=\"red\" )\n",
        "  plt.annotate(it, (low_dim[i,0]+0.05, low_dim[i,1]+0.05), color=\"black\", fontsize=15)\n",
        "\n",
        "plt.xlabel(\"PC1\")\n",
        "plt.ylabel(\"PC2\")"
      ],
      "metadata": {
        "id": "VfCD6K3-Zfpj"
      },
      "execution_count": null,
      "outputs": []
    },
    {
      "cell_type": "code",
      "source": [
        "subset=[]\n",
        "for i in closest_points[0]:\n",
        "  subset.append(tot[i])"
      ],
      "metadata": {
        "id": "xRhnNucHlATC"
      },
      "execution_count": null,
      "outputs": []
    },
    {
      "cell_type": "code",
      "source": [
        "subset[0]"
      ],
      "metadata": {
        "id": "jKYydRlkTNk0"
      },
      "execution_count": null,
      "outputs": []
    },
    {
      "cell_type": "code",
      "source": [
        "img=rdkit.Chem.Draw.MolsToGridImage(subset,molsPerRow=4,subImgSize=(300,300), legends=[str(x) for x in np.arange(1,9,1)])\n",
        "img"
      ],
      "metadata": {
        "id": "eDEkZiTKlMFW"
      },
      "execution_count": null,
      "outputs": []
    },
    {
      "cell_type": "markdown",
      "source": [
        "## Non-linear dimensionality reduction methods"
      ],
      "metadata": {
        "id": "OyYzY_V7g6VY"
      }
    },
    {
      "cell_type": "markdown",
      "source": [
        "### 1. ISOMAP"
      ],
      "metadata": {
        "id": "l84GAiQRtgep"
      }
    },
    {
      "cell_type": "code",
      "source": [
        "from sklearn.manifold import Isomap"
      ],
      "metadata": {
        "id": "6n5xfQy2HkMh"
      },
      "execution_count": null,
      "outputs": []
    },
    {
      "cell_type": "code",
      "source": [
        "iso=Isomap(n_neighbors=12)"
      ],
      "metadata": {
        "id": "Jsq6DZO20P-Y"
      },
      "execution_count": null,
      "outputs": []
    },
    {
      "cell_type": "code",
      "source": [
        "data_red=iso.fit_transform(X)"
      ],
      "metadata": {
        "id": "yl8146yA_9lF"
      },
      "execution_count": null,
      "outputs": []
    },
    {
      "cell_type": "code",
      "source": [
        "plt.figure(figsize=(8,8))\n",
        "plt.scatter(data_red[:1999,0], data_red[:1999,1])\n",
        "plt.scatter(data_red[2000:,0], data_red[2000:,1])\n",
        "plt.xlabel(\"ISOMAP1\")\n",
        "plt.ylabel(\"ISOMAP2\")"
      ],
      "metadata": {
        "id": "b6aVo6UlAHZG"
      },
      "execution_count": null,
      "outputs": []
    },
    {
      "cell_type": "code",
      "source": [
        "kmeans=KMeans(n_clusters=8,random_state=8).fit(data_red[:,:2])"
      ],
      "metadata": {
        "id": "_-a4zKncpRfC"
      },
      "execution_count": null,
      "outputs": []
    },
    {
      "cell_type": "code",
      "source": [
        "np.unique(kmeans.labels_)"
      ],
      "metadata": {
        "id": "TJU9QLcCpZNK"
      },
      "execution_count": null,
      "outputs": []
    },
    {
      "cell_type": "code",
      "source": [
        "plt.figure(figsize=(8,8))\n",
        "plt.scatter(data_red[:,0], data_red[:,1],c=kmeans.labels_)\n",
        "plt.xlabel(\"ISOMAP1\")\n",
        "plt.ylabel(\"ISOMAP2\")"
      ],
      "metadata": {
        "id": "hkh7kLQLphMN"
      },
      "execution_count": null,
      "outputs": []
    },
    {
      "cell_type": "code",
      "source": [
        "closest_points= pairwise_distances_argmin_min(kmeans.cluster_centers_, data_red[:,:2])\n",
        "closest_points"
      ],
      "metadata": {
        "id": "evmnFFlMphFY"
      },
      "execution_count": null,
      "outputs": []
    },
    {
      "cell_type": "code",
      "source": [
        "it=0\n",
        "plt.figure(figsize=(8,8))\n",
        "plt.scatter(data_red[:,0], data_red[:,1],c=kmeans.labels_)\n",
        "for i in closest_points[0]:\n",
        "  it+=1\n",
        "  plt.scatter(data_red[i,0], data_red[i,1],marker='o',s=100,edgecolor=\"black\",color=\"red\" )\n",
        "  plt.annotate(it, (data_red[i,0]+0.1, data_red[i,1]+0.1), color=\"black\", fontsize=15)\n",
        "\n",
        "plt.xlabel(\"ISOMAP1\")\n",
        "plt.ylabel(\"ISOMAP2\")"
      ],
      "metadata": {
        "id": "aFW8vMA0pg9G"
      },
      "execution_count": null,
      "outputs": []
    },
    {
      "cell_type": "code",
      "source": [
        "subset=[]\n",
        "for i in closest_points[0]:\n",
        "  subset.append(tot[i])"
      ],
      "metadata": {
        "id": "CTqXcV2xpgzv"
      },
      "execution_count": null,
      "outputs": []
    },
    {
      "cell_type": "code",
      "source": [
        "subset[0]"
      ],
      "metadata": {
        "id": "dydwMnQd2z1A"
      },
      "execution_count": null,
      "outputs": []
    },
    {
      "cell_type": "code",
      "source": [
        "img=rdkit.Chem.Draw.MolsToGridImage(subset,molsPerRow=4,subImgSize=(300,300), legends=[str(x) for x in np.arange(1,9,1)])\n",
        "img"
      ],
      "metadata": {
        "id": "45VXt6u8qUr-"
      },
      "execution_count": null,
      "outputs": []
    },
    {
      "cell_type": "markdown",
      "source": [
        "### 2. t-SNE"
      ],
      "metadata": {
        "id": "ruoJ_cvMtm6c"
      }
    },
    {
      "cell_type": "code",
      "execution_count": null,
      "metadata": {
        "id": "2_LlkdPi09nK"
      },
      "outputs": [],
      "source": [
        "from sklearn.manifold import  *"
      ]
    },
    {
      "cell_type": "code",
      "source": [
        "tsne=TSNE(perplexity=np.sqrt(len(X)))"
      ],
      "metadata": {
        "id": "_VqZrT3tzuu5"
      },
      "execution_count": null,
      "outputs": []
    },
    {
      "cell_type": "code",
      "execution_count": null,
      "metadata": {
        "id": "PdUbazrP0CKL"
      },
      "outputs": [],
      "source": [
        "data_red=tsne.fit_transform(X)"
      ]
    },
    {
      "cell_type": "code",
      "execution_count": null,
      "metadata": {
        "id": "RL_Ck7Kp0CKL"
      },
      "outputs": [],
      "source": [
        "plt.figure(figsize=(8,8))\n",
        "plt.scatter(data_red[:1999,0], data_red[:1999,1])\n",
        "plt.scatter(data_red[2000:,0], data_red[2000:,1])\n",
        "plt.xlabel(\"t-SNE1\")\n",
        "plt.ylabel(\"t-SNE2\")"
      ]
    },
    {
      "cell_type": "code",
      "source": [
        "kmeans=KMeans(n_clusters=8,random_state=8).fit(data_red[:,:2])"
      ],
      "metadata": {
        "id": "pKR3gR11pBLy"
      },
      "execution_count": null,
      "outputs": []
    },
    {
      "cell_type": "code",
      "source": [
        "np.unique(kmeans.labels_)"
      ],
      "metadata": {
        "id": "oyIKbublpBIa"
      },
      "execution_count": null,
      "outputs": []
    },
    {
      "cell_type": "code",
      "source": [
        "plt.figure(figsize=(8,8))\n",
        "plt.scatter(data_red[:,0], data_red[:,1],c=kmeans.labels_)\n",
        "plt.xlabel(\"t-SNE1\")\n",
        "plt.ylabel(\"t-SNE2\")"
      ],
      "metadata": {
        "id": "xEKSOKzzpHQ9"
      },
      "execution_count": null,
      "outputs": []
    },
    {
      "cell_type": "code",
      "source": [
        "closest_points= pairwise_distances_argmin_min(kmeans.cluster_centers_, data_red[:,:2])\n",
        "closest_points"
      ],
      "metadata": {
        "id": "FoidOSTEpPBz"
      },
      "execution_count": null,
      "outputs": []
    },
    {
      "cell_type": "code",
      "source": [
        "it=0\n",
        "plt.figure(figsize=(8,8))\n",
        "plt.scatter(data_red[:,0], data_red[:,1],c=kmeans.labels_)\n",
        "for i in closest_points[0]:\n",
        "  it+=1\n",
        "  plt.scatter(data_red[i,0], data_red[i,1],marker='o',s=100,edgecolor=\"black\",color=\"red\" )\n",
        "  plt.annotate(it, (data_red[i,0]+0.5, data_red[i,1]+0.5), color=\"black\", fontsize=15)\n",
        "\n",
        "plt.xlabel(\"t-SNE1\")\n",
        "plt.ylabel(\"t-SNE2\")"
      ],
      "metadata": {
        "id": "cWSXuuvhpUuR"
      },
      "execution_count": null,
      "outputs": []
    },
    {
      "cell_type": "code",
      "source": [
        "subset=[]\n",
        "for i in closest_points[0]:\n",
        "  subset.append(tot[i])"
      ],
      "metadata": {
        "id": "VQLD06BIpm3m"
      },
      "execution_count": null,
      "outputs": []
    },
    {
      "cell_type": "code",
      "source": [
        "subset[0]"
      ],
      "metadata": {
        "id": "8VnuIacAUU4c"
      },
      "execution_count": null,
      "outputs": []
    },
    {
      "cell_type": "code",
      "source": [
        "img=rdkit.Chem.Draw.MolsToGridImage(subset,molsPerRow=4,subImgSize=(300,300), legends=[str(x) for x in np.arange(1,9,1)])\n",
        "img"
      ],
      "metadata": {
        "id": "aNh3VKh9poUy"
      },
      "execution_count": null,
      "outputs": []
    },
    {
      "cell_type": "code",
      "source": [
        "distance=np.sqrt(np.square(data_red[:,0]-(data_red[closest_points[0][2],0]))+np.square(data_red[:,1]-(data_red[closest_points[0][2],1])))"
      ],
      "metadata": {
        "id": "gmji3GDcBjPQ"
      },
      "execution_count": null,
      "outputs": []
    },
    {
      "cell_type": "code",
      "source": [
        "nearest_points=np.argsort(distance,axis=0)[:50]"
      ],
      "metadata": {
        "id": "AVQiDuNLB-gF"
      },
      "execution_count": null,
      "outputs": []
    },
    {
      "cell_type": "code",
      "source": [
        "nearest_points"
      ],
      "metadata": {
        "id": "eWPbSLbbClA0"
      },
      "execution_count": null,
      "outputs": []
    },
    {
      "cell_type": "code",
      "source": [
        "from rdkit import Chem"
      ],
      "metadata": {
        "id": "MSbfDuqztQsL"
      },
      "execution_count": null,
      "outputs": []
    },
    {
      "cell_type": "code",
      "source": [
        "Chem.MolToSmiles(tot[0])"
      ],
      "metadata": {
        "id": "LmqecNmmtT8B"
      },
      "execution_count": null,
      "outputs": []
    },
    {
      "cell_type": "code",
      "source": [
        "nearest_mols=[]\n",
        "unique_smiles=[]\n",
        "for i in nearest_points:\n",
        "  if Chem.MolToSmiles(tot[i]) not in unique_smiles:\n",
        "    nearest_mols.append(tot[i])\n",
        "    unique_smiles.append(Chem.MolToSmiles(tot[i]))\n"
      ],
      "metadata": {
        "id": "WP0-p_NPDePH"
      },
      "execution_count": null,
      "outputs": []
    },
    {
      "cell_type": "code",
      "source": [
        "img=rdkit.Chem.Draw.MolsToGridImage(nearest_mols,molsPerRow=3,subImgSize=(300,300))\n",
        "img"
      ],
      "metadata": {
        "id": "dZ9l8HhcDmze"
      },
      "execution_count": null,
      "outputs": []
    },
    {
      "cell_type": "markdown",
      "source": [
        "# Classification"
      ],
      "metadata": {
        "id": "y1JAsu1q_zeE"
      }
    },
    {
      "cell_type": "markdown",
      "source": [
        "## 1. Logistic Regression"
      ],
      "metadata": {
        "id": "JhaLV9-xcTR2"
      }
    },
    {
      "cell_type": "code",
      "source": [
        "from sklearn.linear_model import LogisticRegression\n",
        "from sklearn.inspection import DecisionBoundaryDisplay"
      ],
      "metadata": {
        "id": "sa57a1xSdA3i"
      },
      "execution_count": null,
      "outputs": []
    },
    {
      "cell_type": "code",
      "source": [
        "x_reduced=data_red[:,0]"
      ],
      "metadata": {
        "id": "V-aBbmW-45ax"
      },
      "execution_count": null,
      "outputs": []
    },
    {
      "cell_type": "code",
      "source": [
        "x_reduced"
      ],
      "metadata": {
        "id": "e6MCuI1b4-xH"
      },
      "execution_count": null,
      "outputs": []
    },
    {
      "cell_type": "code",
      "source": [
        "Y"
      ],
      "metadata": {
        "id": "D8SJWEm1ctdH"
      },
      "execution_count": null,
      "outputs": []
    },
    {
      "cell_type": "code",
      "source": [
        "clr=LogisticRegression()"
      ],
      "metadata": {
        "id": "-0jmvCEE4-oD"
      },
      "execution_count": null,
      "outputs": []
    },
    {
      "cell_type": "code",
      "source": [
        "clr.fit(x_reduced.reshape(-1,1),Y)"
      ],
      "metadata": {
        "id": "wCcsutDR5GWm"
      },
      "execution_count": null,
      "outputs": []
    },
    {
      "cell_type": "code",
      "source": [
        "clr.coef_"
      ],
      "metadata": {
        "id": "HXQg96HU5PXG"
      },
      "execution_count": null,
      "outputs": []
    },
    {
      "cell_type": "code",
      "source": [
        "clr.intercept_"
      ],
      "metadata": {
        "id": "d_SGBT135PC_"
      },
      "execution_count": null,
      "outputs": []
    },
    {
      "cell_type": "code",
      "source": [
        "plt.scatter(x_reduced,Y,alpha=0.05,c=Y,cmap=matplotlib.colors.ListedColormap([\"C0\", \"C1\"]))\n",
        "plt.xlabel(\"t-SNE1\")\n",
        "plt.ylabel(\"Class\")"
      ],
      "metadata": {
        "id": "BGqZOBE35Oj4"
      },
      "execution_count": null,
      "outputs": []
    },
    {
      "cell_type": "code",
      "source": [
        "x=np.linspace([x_reduced.min()-1,x_reduced.max()+1],100)"
      ],
      "metadata": {
        "id": "dxjZXMDl886L"
      },
      "execution_count": null,
      "outputs": []
    },
    {
      "cell_type": "code",
      "source": [
        "response=np.exp(clr.intercept_+clr.coef_*x)/(np.exp(clr.intercept_+clr.coef_*x)+1)"
      ],
      "metadata": {
        "id": "5U6O9OKs9ZCb"
      },
      "execution_count": null,
      "outputs": []
    },
    {
      "cell_type": "code",
      "source": [
        "plt.scatter(x_reduced,Y,alpha=0.05,c=Y,cmap=matplotlib.colors.ListedColormap([\"C0\", \"C1\"]))\n",
        "plt.plot(x,response,'--',c='k',lw=2)\n",
        "plt.xlabel(\"t-SNE1\")\n",
        "plt.ylabel(\"Class\")"
      ],
      "metadata": {
        "id": "B9wFWkIP9wV7"
      },
      "execution_count": null,
      "outputs": []
    },
    {
      "cell_type": "markdown",
      "source": [
        "## 2. Linear Discriminant Analysis"
      ],
      "metadata": {
        "id": "ylAxQ9212Vmc"
      }
    },
    {
      "cell_type": "code",
      "source": [
        "from sklearn.discriminant_analysis import LinearDiscriminantAnalysis"
      ],
      "metadata": {
        "id": "BGK-MFfMfDac"
      },
      "execution_count": null,
      "outputs": []
    },
    {
      "cell_type": "code",
      "source": [
        "lda=LinearDiscriminantAnalysis()"
      ],
      "metadata": {
        "id": "nF9ExzPHfDZX"
      },
      "execution_count": null,
      "outputs": []
    },
    {
      "cell_type": "code",
      "source": [
        "x_reduced=data_red[:,:2]"
      ],
      "metadata": {
        "id": "1vzabDvzY0jR"
      },
      "execution_count": null,
      "outputs": []
    },
    {
      "cell_type": "code",
      "source": [
        "lda.fit(x_reduced,Y)"
      ],
      "metadata": {
        "id": "wTtdQqlSfDV9"
      },
      "execution_count": null,
      "outputs": []
    },
    {
      "cell_type": "code",
      "source": [
        "feature_1, feature_2 = np.meshgrid(\n",
        "    np.linspace(x_reduced[:, 0].min(), x_reduced[:, 0].max()),\n",
        "    np.linspace(x_reduced[:, 1].min(), x_reduced[:, 1].max()))"
      ],
      "metadata": {
        "id": "e7IcMFFTWPHS"
      },
      "execution_count": null,
      "outputs": []
    },
    {
      "cell_type": "code",
      "source": [
        "grid = np.vstack([feature_1.ravel(), feature_2.ravel()]).T"
      ],
      "metadata": {
        "id": "kXUzb7BnWTqY"
      },
      "execution_count": null,
      "outputs": []
    },
    {
      "cell_type": "code",
      "source": [
        "y_predict=np.reshape(lda.predict(grid),feature_1.shape)"
      ],
      "metadata": {
        "id": "Jq9Ktgu9f08n"
      },
      "execution_count": null,
      "outputs": []
    },
    {
      "cell_type": "code",
      "source": [
        "display = DecisionBoundaryDisplay(xx0=feature_1, xx1=feature_2, response=y_predict)"
      ],
      "metadata": {
        "id": "rNMDFau5f05U"
      },
      "execution_count": null,
      "outputs": []
    },
    {
      "cell_type": "code",
      "source": [
        "display.plot(cmap=matplotlib.colors.ListedColormap([\"C0\", \"C1\"]))\n",
        "display.ax_.scatter(x_reduced[:, 0], x_reduced[:, 1], c=Y, edgecolor=\"k\",cmap=matplotlib.colors.ListedColormap([\"C0\", \"C1\"]))\n",
        "plt.xlabel(\"t-SNE1\")\n",
        "plt.ylabel(\"t-SNE2\")"
      ],
      "metadata": {
        "id": "U-cZsyhnjhk4"
      },
      "execution_count": null,
      "outputs": []
    },
    {
      "cell_type": "markdown",
      "source": [
        "## 3. Support Vector Machines"
      ],
      "metadata": {
        "id": "IDoUWNGK2zAe"
      }
    },
    {
      "cell_type": "code",
      "source": [
        "from sklearn.svm import SVC\n",
        "from sklearn.model_selection import train_test_split\n",
        "from sklearn.metrics import accuracy_score\n"
      ],
      "metadata": {
        "id": "SB84s6kTjhhT"
      },
      "execution_count": null,
      "outputs": []
    },
    {
      "cell_type": "code",
      "source": [
        "svc=SVC(kernel='linear')\n",
        "#svc=SVC(kernel='poly', degree=2)\n",
        "#svc=SVC(kernel='poly', degree=3)\n",
        "#svc=SVC(kernel='poly', degree=4)\n",
        "#svc=SVC(kernel='sigmoid')\n",
        "#svc=SVC(kernel='rbf')"
      ],
      "metadata": {
        "id": "UDXnyxexjhbS"
      },
      "execution_count": null,
      "outputs": []
    },
    {
      "cell_type": "code",
      "source": [
        "svc.fit(x_reduced,Y)"
      ],
      "metadata": {
        "id": "LC4-Njy7zaba"
      },
      "execution_count": null,
      "outputs": []
    },
    {
      "cell_type": "code",
      "source": [
        "y_predict=np.reshape(svc.predict(grid),feature_1.shape)"
      ],
      "metadata": {
        "id": "fCPzp2Mbzaag"
      },
      "execution_count": null,
      "outputs": []
    },
    {
      "cell_type": "code",
      "source": [
        "display = DecisionBoundaryDisplay(xx0=feature_1, xx1=feature_2, response=y_predict)"
      ],
      "metadata": {
        "id": "H3_1RTBJzaWS"
      },
      "execution_count": null,
      "outputs": []
    },
    {
      "cell_type": "code",
      "source": [
        "display.plot(cmap=matplotlib.colors.ListedColormap([\"C0\", \"C1\"]))\n",
        "display.ax_.scatter(x_reduced[:, 0], x_reduced[:, 1], c=Y, edgecolor=\"k\",cmap=matplotlib.colors.ListedColormap([\"C0\", \"C1\"]))\n",
        "plt.xlabel(\"t-SNE1\")\n",
        "plt.ylabel(\"t-SNE2\")"
      ],
      "metadata": {
        "id": "Kf9gn5LZzaVe"
      },
      "execution_count": null,
      "outputs": []
    }
  ],
  "metadata": {
    "kernelspec": {
      "display_name": "Python 3.9.0 ('base')",
      "language": "python",
      "name": "python3"
    },
    "language_info": {
      "codemirror_mode": {
        "name": "ipython",
        "version": 3
      },
      "file_extension": ".py",
      "mimetype": "text/x-python",
      "name": "python",
      "nbconvert_exporter": "python",
      "pygments_lexer": "ipython3",
      "version": "3.9.0"
    },
    "orig_nbformat": 4,
    "vscode": {
      "interpreter": {
        "hash": "c279850e43ba37a04db8f5019f0b924b09cea5a90073783a7a948114b35e719b"
      }
    },
    "colab": {
      "provenance": []
    }
  },
  "nbformat": 4,
  "nbformat_minor": 0
}